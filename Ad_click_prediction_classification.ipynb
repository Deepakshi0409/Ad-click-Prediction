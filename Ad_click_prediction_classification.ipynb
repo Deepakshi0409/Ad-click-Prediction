{
  "nbformat": 4,
  "nbformat_minor": 5,
  "metadata": {
    "kernelspec": {
      "display_name": "Python 3",
      "language": "python",
      "name": "python3"
    },
    "language_info": {
      "codemirror_mode": {
        "name": "ipython",
        "version": 3
      },
      "file_extension": ".py",
      "mimetype": "text/x-python",
      "name": "python",
      "nbconvert_exporter": "python",
      "pygments_lexer": "ipython3",
      "version": "3.7.9"
    },
    "papermill": {
      "default_parameters": {},
      "duration": 28.857423,
      "end_time": "2021-07-06T09:26:07.602022",
      "environment_variables": {},
      "exception": null,
      "input_path": "__notebook__.ipynb",
      "output_path": "__notebook__.ipynb",
      "parameters": {},
      "start_time": "2021-07-06T09:25:38.744599",
      "version": "2.3.2"
    },
    "colab": {
      "name": "Ad-click-prediction-classification.ipynb",
      "provenance": []
    }
  },
  "cells": [
    {
      "cell_type": "markdown",
      "metadata": {
        "papermill": {
          "duration": 0.046908,
          "end_time": "2021-07-06T09:25:45.967189",
          "exception": false,
          "start_time": "2021-07-06T09:25:45.920281",
          "status": "completed"
        },
        "tags": [],
        "id": "african-surveillance"
      },
      "source": [
        "# Ad Click Prediction Classification"
      ],
      "id": "african-surveillance"
    },
    {
      "cell_type": "markdown",
      "metadata": {
        "papermill": {
          "duration": 0.046935,
          "end_time": "2021-07-06T09:25:46.154740",
          "exception": false,
          "start_time": "2021-07-06T09:25:46.107805",
          "status": "completed"
        },
        "tags": [],
        "id": "brilliant-harmony"
      },
      "source": [
        "# 1. Problem Definition\n",
        "\n",
        "How we can use various python based Machine Learning Model and the given parameters to predict if the customer purchased or not?"
      ],
      "id": "brilliant-harmony"
    },
    {
      "cell_type": "markdown",
      "metadata": {
        "papermill": {
          "duration": 0.046771,
          "end_time": "2021-07-06T09:25:46.250185",
          "exception": false,
          "start_time": "2021-07-06T09:25:46.203414",
          "status": "completed"
        },
        "tags": [],
        "id": "virtual-acquisition"
      },
      "source": [
        "# 2. Data\n",
        "\n",
        "Data from: https://www.kaggle.com/jahnveenarang/cvdcvd-vd"
      ],
      "id": "virtual-acquisition"
    },
    {
      "cell_type": "markdown",
      "metadata": {
        "papermill": {
          "duration": 0.046275,
          "end_time": "2021-07-06T09:25:46.344122",
          "exception": false,
          "start_time": "2021-07-06T09:25:46.297847",
          "status": "completed"
        },
        "tags": [],
        "id": "danish-intake"
      },
      "source": [
        "# 3. Evaluation\n",
        "\n",
        "As this is a classification problem, we will use the classification metics for evauluting the model"
      ],
      "id": "danish-intake"
    },
    {
      "cell_type": "markdown",
      "metadata": {
        "papermill": {
          "duration": 0.050101,
          "end_time": "2021-07-06T09:25:46.442196",
          "exception": false,
          "start_time": "2021-07-06T09:25:46.392095",
          "status": "completed"
        },
        "tags": [],
        "id": "assumed-nudist"
      },
      "source": [
        "# 4. Features\n",
        "\n",
        "## inputs / features\n",
        "    1. User ID - Customer Unique Id\n",
        "    2. Gender - Gender of a customer - M/F\n",
        "    3. Age - Age of a customer\n",
        "    4. EstimatedSalary - Estimated salary of a customer\n",
        "\n",
        "## Output / label\n",
        "    5. Purchased - Whether they purchased or not after Ad click 1/0"
      ],
      "id": "assumed-nudist"
    },
    {
      "cell_type": "markdown",
      "metadata": {
        "papermill": {
          "duration": 0.048365,
          "end_time": "2021-07-06T09:25:46.538222",
          "exception": false,
          "start_time": "2021-07-06T09:25:46.489857",
          "status": "completed"
        },
        "tags": [],
        "id": "designed-donor"
      },
      "source": [
        "## Standard Imports"
      ],
      "id": "designed-donor"
    },
    {
      "cell_type": "code",
      "metadata": {
        "execution": {
          "iopub.execute_input": "2021-07-06T09:25:46.638777Z",
          "iopub.status.busy": "2021-07-06T09:25:46.638084Z",
          "iopub.status.idle": "2021-07-06T09:25:47.707846Z",
          "shell.execute_reply": "2021-07-06T09:25:47.707044Z",
          "shell.execute_reply.started": "2021-07-06T09:23:39.128797Z"
        },
        "papermill": {
          "duration": 1.122547,
          "end_time": "2021-07-06T09:25:47.708030",
          "exception": false,
          "start_time": "2021-07-06T09:25:46.585483",
          "status": "completed"
        },
        "tags": [],
        "id": "pressed-trigger"
      },
      "source": [
        "import pandas as pd\n",
        "import numpy as np\n",
        "import matplotlib.pyplot as plt\n",
        "import seaborn as sns"
      ],
      "id": "pressed-trigger",
      "execution_count": 1,
      "outputs": []
    },
    {
      "cell_type": "code",
      "metadata": {
        "execution": {
          "iopub.execute_input": "2021-07-06T09:25:47.812051Z",
          "iopub.status.busy": "2021-07-06T09:25:47.811300Z",
          "iopub.status.idle": "2021-07-06T09:25:47.821920Z",
          "shell.execute_reply": "2021-07-06T09:25:47.822469Z",
          "shell.execute_reply.started": "2021-07-06T09:23:39.154410Z"
        },
        "papermill": {
          "duration": 0.066686,
          "end_time": "2021-07-06T09:25:47.822701",
          "exception": false,
          "start_time": "2021-07-06T09:25:47.756015",
          "status": "completed"
        },
        "tags": [],
        "id": "framed-skill"
      },
      "source": [
        "import os\n",
        "for dirname, _, filenames in os.walk('/kaggle/input'):\n",
        "    for filename in filenames:\n",
        "        print(os.path.join(dirname, filename))"
      ],
      "id": "framed-skill",
      "execution_count": 2,
      "outputs": []
    },
    {
      "cell_type": "markdown",
      "metadata": {
        "papermill": {
          "duration": 0.047056,
          "end_time": "2021-07-06T09:25:47.917711",
          "exception": false,
          "start_time": "2021-07-06T09:25:47.870655",
          "status": "completed"
        },
        "tags": [],
        "id": "persistent-container"
      },
      "source": [
        "## Reading the Dataset"
      ],
      "id": "persistent-container"
    },
    {
      "cell_type": "code",
      "metadata": {
        "execution": {
          "iopub.execute_input": "2021-07-06T09:25:48.018333Z",
          "iopub.status.busy": "2021-07-06T09:25:48.017479Z",
          "iopub.status.idle": "2021-07-06T09:25:48.057901Z",
          "shell.execute_reply": "2021-07-06T09:25:48.057213Z",
          "shell.execute_reply.started": "2021-07-06T09:23:39.188576Z"
        },
        "papermill": {
          "duration": 0.093304,
          "end_time": "2021-07-06T09:25:48.058064",
          "exception": false,
          "start_time": "2021-07-06T09:25:47.964760",
          "status": "completed"
        },
        "tags": [],
        "id": "documented-details"
      },
      "source": [
        "df = pd.read_csv('/content/Social_Network_Ads.csv')"
      ],
      "id": "documented-details",
      "execution_count": 3,
      "outputs": []
    },
    {
      "cell_type": "markdown",
      "metadata": {
        "papermill": {
          "duration": 0.050625,
          "end_time": "2021-07-06T09:25:48.158003",
          "exception": false,
          "start_time": "2021-07-06T09:25:48.107378",
          "status": "completed"
        },
        "tags": [],
        "id": "alert-welsh"
      },
      "source": [
        "## Data Exporation"
      ],
      "id": "alert-welsh"
    },
    {
      "cell_type": "code",
      "metadata": {
        "execution": {
          "iopub.execute_input": "2021-07-06T09:25:48.259048Z",
          "iopub.status.busy": "2021-07-06T09:25:48.258252Z",
          "iopub.status.idle": "2021-07-06T09:25:48.276609Z",
          "shell.execute_reply": "2021-07-06T09:25:48.276018Z",
          "shell.execute_reply.started": "2021-07-06T09:23:39.220806Z"
        },
        "papermill": {
          "duration": 0.069592,
          "end_time": "2021-07-06T09:25:48.276803",
          "exception": false,
          "start_time": "2021-07-06T09:25:48.207211",
          "status": "completed"
        },
        "tags": [],
        "colab": {
          "base_uri": "https://localhost:8080/",
          "height": 423
        },
        "id": "hybrid-effects",
        "outputId": "3a67c94a-0bd2-4184-c1e9-cba17e95bfde"
      },
      "source": [
        "df"
      ],
      "id": "hybrid-effects",
      "execution_count": 4,
      "outputs": [
        {
          "output_type": "execute_result",
          "data": {
            "text/html": [
              "<div>\n",
              "<style scoped>\n",
              "    .dataframe tbody tr th:only-of-type {\n",
              "        vertical-align: middle;\n",
              "    }\n",
              "\n",
              "    .dataframe tbody tr th {\n",
              "        vertical-align: top;\n",
              "    }\n",
              "\n",
              "    .dataframe thead th {\n",
              "        text-align: right;\n",
              "    }\n",
              "</style>\n",
              "<table border=\"1\" class=\"dataframe\">\n",
              "  <thead>\n",
              "    <tr style=\"text-align: right;\">\n",
              "      <th></th>\n",
              "      <th>User ID</th>\n",
              "      <th>Gender</th>\n",
              "      <th>Age</th>\n",
              "      <th>EstimatedSalary</th>\n",
              "      <th>Purchased</th>\n",
              "    </tr>\n",
              "  </thead>\n",
              "  <tbody>\n",
              "    <tr>\n",
              "      <th>0</th>\n",
              "      <td>15624510</td>\n",
              "      <td>Male</td>\n",
              "      <td>19</td>\n",
              "      <td>19000</td>\n",
              "      <td>0</td>\n",
              "    </tr>\n",
              "    <tr>\n",
              "      <th>1</th>\n",
              "      <td>15810944</td>\n",
              "      <td>Male</td>\n",
              "      <td>35</td>\n",
              "      <td>20000</td>\n",
              "      <td>0</td>\n",
              "    </tr>\n",
              "    <tr>\n",
              "      <th>2</th>\n",
              "      <td>15668575</td>\n",
              "      <td>Female</td>\n",
              "      <td>26</td>\n",
              "      <td>43000</td>\n",
              "      <td>0</td>\n",
              "    </tr>\n",
              "    <tr>\n",
              "      <th>3</th>\n",
              "      <td>15603246</td>\n",
              "      <td>Female</td>\n",
              "      <td>27</td>\n",
              "      <td>57000</td>\n",
              "      <td>0</td>\n",
              "    </tr>\n",
              "    <tr>\n",
              "      <th>4</th>\n",
              "      <td>15804002</td>\n",
              "      <td>Male</td>\n",
              "      <td>19</td>\n",
              "      <td>76000</td>\n",
              "      <td>0</td>\n",
              "    </tr>\n",
              "    <tr>\n",
              "      <th>...</th>\n",
              "      <td>...</td>\n",
              "      <td>...</td>\n",
              "      <td>...</td>\n",
              "      <td>...</td>\n",
              "      <td>...</td>\n",
              "    </tr>\n",
              "    <tr>\n",
              "      <th>395</th>\n",
              "      <td>15691863</td>\n",
              "      <td>Female</td>\n",
              "      <td>46</td>\n",
              "      <td>41000</td>\n",
              "      <td>1</td>\n",
              "    </tr>\n",
              "    <tr>\n",
              "      <th>396</th>\n",
              "      <td>15706071</td>\n",
              "      <td>Male</td>\n",
              "      <td>51</td>\n",
              "      <td>23000</td>\n",
              "      <td>1</td>\n",
              "    </tr>\n",
              "    <tr>\n",
              "      <th>397</th>\n",
              "      <td>15654296</td>\n",
              "      <td>Female</td>\n",
              "      <td>50</td>\n",
              "      <td>20000</td>\n",
              "      <td>1</td>\n",
              "    </tr>\n",
              "    <tr>\n",
              "      <th>398</th>\n",
              "      <td>15755018</td>\n",
              "      <td>Male</td>\n",
              "      <td>36</td>\n",
              "      <td>33000</td>\n",
              "      <td>0</td>\n",
              "    </tr>\n",
              "    <tr>\n",
              "      <th>399</th>\n",
              "      <td>15594041</td>\n",
              "      <td>Female</td>\n",
              "      <td>49</td>\n",
              "      <td>36000</td>\n",
              "      <td>1</td>\n",
              "    </tr>\n",
              "  </tbody>\n",
              "</table>\n",
              "<p>400 rows × 5 columns</p>\n",
              "</div>"
            ],
            "text/plain": [
              "      User ID  Gender  Age  EstimatedSalary  Purchased\n",
              "0    15624510    Male   19            19000          0\n",
              "1    15810944    Male   35            20000          0\n",
              "2    15668575  Female   26            43000          0\n",
              "3    15603246  Female   27            57000          0\n",
              "4    15804002    Male   19            76000          0\n",
              "..        ...     ...  ...              ...        ...\n",
              "395  15691863  Female   46            41000          1\n",
              "396  15706071    Male   51            23000          1\n",
              "397  15654296  Female   50            20000          1\n",
              "398  15755018    Male   36            33000          0\n",
              "399  15594041  Female   49            36000          1\n",
              "\n",
              "[400 rows x 5 columns]"
            ]
          },
          "metadata": {
            "tags": []
          },
          "execution_count": 4
        }
      ]
    },
    {
      "cell_type": "code",
      "metadata": {
        "execution": {
          "iopub.execute_input": "2021-07-06T09:25:48.382117Z",
          "iopub.status.busy": "2021-07-06T09:25:48.380842Z",
          "iopub.status.idle": "2021-07-06T09:25:48.386352Z",
          "shell.execute_reply": "2021-07-06T09:25:48.385796Z",
          "shell.execute_reply.started": "2021-07-06T09:23:39.248099Z"
        },
        "papermill": {
          "duration": 0.06174,
          "end_time": "2021-07-06T09:25:48.386532",
          "exception": false,
          "start_time": "2021-07-06T09:25:48.324792",
          "status": "completed"
        },
        "tags": [],
        "colab": {
          "base_uri": "https://localhost:8080/"
        },
        "id": "cathedral-stake",
        "outputId": "c09b3ac4-5bb8-4fc6-992c-e470e91766cb"
      },
      "source": [
        "len(df['User ID'].unique())"
      ],
      "id": "cathedral-stake",
      "execution_count": 5,
      "outputs": [
        {
          "output_type": "execute_result",
          "data": {
            "text/plain": [
              "400"
            ]
          },
          "metadata": {
            "tags": []
          },
          "execution_count": 5
        }
      ]
    },
    {
      "cell_type": "markdown",
      "metadata": {
        "papermill": {
          "duration": 0.051057,
          "end_time": "2021-07-06T09:25:48.488159",
          "exception": false,
          "start_time": "2021-07-06T09:25:48.437102",
          "status": "completed"
        },
        "tags": [],
        "id": "ranking-familiar"
      },
      "source": [
        "As User ID is based on the customer ID and is unique by customer, we will drop the User ID"
      ],
      "id": "ranking-familiar"
    },
    {
      "cell_type": "code",
      "metadata": {
        "execution": {
          "iopub.execute_input": "2021-07-06T09:25:48.595258Z",
          "iopub.status.busy": "2021-07-06T09:25:48.594142Z",
          "iopub.status.idle": "2021-07-06T09:25:48.596987Z",
          "shell.execute_reply": "2021-07-06T09:25:48.597563Z",
          "shell.execute_reply.started": "2021-07-06T09:23:39.269939Z"
        },
        "papermill": {
          "duration": 0.060559,
          "end_time": "2021-07-06T09:25:48.597756",
          "exception": false,
          "start_time": "2021-07-06T09:25:48.537197",
          "status": "completed"
        },
        "tags": [],
        "id": "completed-pointer"
      },
      "source": [
        "df = df.drop('User ID', axis=1)"
      ],
      "id": "completed-pointer",
      "execution_count": 6,
      "outputs": []
    },
    {
      "cell_type": "code",
      "metadata": {
        "execution": {
          "iopub.execute_input": "2021-07-06T09:25:48.701924Z",
          "iopub.status.busy": "2021-07-06T09:25:48.700680Z",
          "iopub.status.idle": "2021-07-06T09:25:48.717834Z",
          "shell.execute_reply": "2021-07-06T09:25:48.718355Z",
          "shell.execute_reply.started": "2021-07-06T09:23:39.304117Z"
        },
        "papermill": {
          "duration": 0.071949,
          "end_time": "2021-07-06T09:25:48.718586",
          "exception": false,
          "start_time": "2021-07-06T09:25:48.646637",
          "status": "completed"
        },
        "tags": [],
        "colab": {
          "base_uri": "https://localhost:8080/",
          "height": 423
        },
        "id": "naval-claim",
        "outputId": "11a533a2-dd60-405d-bd84-04b3163e99a2"
      },
      "source": [
        "df"
      ],
      "id": "naval-claim",
      "execution_count": 7,
      "outputs": [
        {
          "output_type": "execute_result",
          "data": {
            "text/html": [
              "<div>\n",
              "<style scoped>\n",
              "    .dataframe tbody tr th:only-of-type {\n",
              "        vertical-align: middle;\n",
              "    }\n",
              "\n",
              "    .dataframe tbody tr th {\n",
              "        vertical-align: top;\n",
              "    }\n",
              "\n",
              "    .dataframe thead th {\n",
              "        text-align: right;\n",
              "    }\n",
              "</style>\n",
              "<table border=\"1\" class=\"dataframe\">\n",
              "  <thead>\n",
              "    <tr style=\"text-align: right;\">\n",
              "      <th></th>\n",
              "      <th>Gender</th>\n",
              "      <th>Age</th>\n",
              "      <th>EstimatedSalary</th>\n",
              "      <th>Purchased</th>\n",
              "    </tr>\n",
              "  </thead>\n",
              "  <tbody>\n",
              "    <tr>\n",
              "      <th>0</th>\n",
              "      <td>Male</td>\n",
              "      <td>19</td>\n",
              "      <td>19000</td>\n",
              "      <td>0</td>\n",
              "    </tr>\n",
              "    <tr>\n",
              "      <th>1</th>\n",
              "      <td>Male</td>\n",
              "      <td>35</td>\n",
              "      <td>20000</td>\n",
              "      <td>0</td>\n",
              "    </tr>\n",
              "    <tr>\n",
              "      <th>2</th>\n",
              "      <td>Female</td>\n",
              "      <td>26</td>\n",
              "      <td>43000</td>\n",
              "      <td>0</td>\n",
              "    </tr>\n",
              "    <tr>\n",
              "      <th>3</th>\n",
              "      <td>Female</td>\n",
              "      <td>27</td>\n",
              "      <td>57000</td>\n",
              "      <td>0</td>\n",
              "    </tr>\n",
              "    <tr>\n",
              "      <th>4</th>\n",
              "      <td>Male</td>\n",
              "      <td>19</td>\n",
              "      <td>76000</td>\n",
              "      <td>0</td>\n",
              "    </tr>\n",
              "    <tr>\n",
              "      <th>...</th>\n",
              "      <td>...</td>\n",
              "      <td>...</td>\n",
              "      <td>...</td>\n",
              "      <td>...</td>\n",
              "    </tr>\n",
              "    <tr>\n",
              "      <th>395</th>\n",
              "      <td>Female</td>\n",
              "      <td>46</td>\n",
              "      <td>41000</td>\n",
              "      <td>1</td>\n",
              "    </tr>\n",
              "    <tr>\n",
              "      <th>396</th>\n",
              "      <td>Male</td>\n",
              "      <td>51</td>\n",
              "      <td>23000</td>\n",
              "      <td>1</td>\n",
              "    </tr>\n",
              "    <tr>\n",
              "      <th>397</th>\n",
              "      <td>Female</td>\n",
              "      <td>50</td>\n",
              "      <td>20000</td>\n",
              "      <td>1</td>\n",
              "    </tr>\n",
              "    <tr>\n",
              "      <th>398</th>\n",
              "      <td>Male</td>\n",
              "      <td>36</td>\n",
              "      <td>33000</td>\n",
              "      <td>0</td>\n",
              "    </tr>\n",
              "    <tr>\n",
              "      <th>399</th>\n",
              "      <td>Female</td>\n",
              "      <td>49</td>\n",
              "      <td>36000</td>\n",
              "      <td>1</td>\n",
              "    </tr>\n",
              "  </tbody>\n",
              "</table>\n",
              "<p>400 rows × 4 columns</p>\n",
              "</div>"
            ],
            "text/plain": [
              "     Gender  Age  EstimatedSalary  Purchased\n",
              "0      Male   19            19000          0\n",
              "1      Male   35            20000          0\n",
              "2    Female   26            43000          0\n",
              "3    Female   27            57000          0\n",
              "4      Male   19            76000          0\n",
              "..      ...  ...              ...        ...\n",
              "395  Female   46            41000          1\n",
              "396    Male   51            23000          1\n",
              "397  Female   50            20000          1\n",
              "398    Male   36            33000          0\n",
              "399  Female   49            36000          1\n",
              "\n",
              "[400 rows x 4 columns]"
            ]
          },
          "metadata": {
            "tags": []
          },
          "execution_count": 7
        }
      ]
    },
    {
      "cell_type": "code",
      "metadata": {
        "execution": {
          "iopub.execute_input": "2021-07-06T09:25:48.821993Z",
          "iopub.status.busy": "2021-07-06T09:25:48.820843Z",
          "iopub.status.idle": "2021-07-06T09:25:49.016101Z",
          "shell.execute_reply": "2021-07-06T09:25:49.015377Z",
          "shell.execute_reply.started": "2021-07-06T09:23:39.330435Z"
        },
        "papermill": {
          "duration": 0.248874,
          "end_time": "2021-07-06T09:25:49.016307",
          "exception": false,
          "start_time": "2021-07-06T09:25:48.767433",
          "status": "completed"
        },
        "tags": [],
        "colab": {
          "base_uri": "https://localhost:8080/",
          "height": 459
        },
        "id": "coated-safety",
        "outputId": "17d4d82c-ccc5-4448-aa59-9dd3485417eb"
      },
      "source": [
        "plt.figure(figsize=(20,10))\n",
        "plt.title('Value count of Labels')\n",
        "sns.countplot(data=df, x='Purchased');"
      ],
      "id": "coated-safety",
      "execution_count": 8,
      "outputs": [
        {
          "output_type": "display_data",
          "data": {
            "image/png": "[encoded data removed]",
            "text/plain": [
              "<Figure size 1440x720 with 1 Axes>"
            ]
          },
          "metadata": {
            "tags": [],
            "needs_background": "light"
          }
        }
      ]
    },
    {
      "cell_type": "markdown",
      "metadata": {
        "papermill": {
          "duration": 0.051087,
          "end_time": "2021-07-06T09:25:49.120352",
          "exception": false,
          "start_time": "2021-07-06T09:25:49.069265",
          "status": "completed"
        },
        "tags": [],
        "id": "contrary-lottery"
      },
      "source": [
        "As we can see the data is in-balanced"
      ],
      "id": "contrary-lottery"
    },
    {
      "cell_type": "code",
      "metadata": {
        "execution": {
          "iopub.execute_input": "2021-07-06T09:25:49.278696Z",
          "iopub.status.busy": "2021-07-06T09:25:49.258587Z",
          "iopub.status.idle": "2021-07-06T09:25:49.396192Z",
          "shell.execute_reply": "2021-07-06T09:25:49.395597Z",
          "shell.execute_reply.started": "2021-07-06T09:23:39.502312Z"
        },
        "papermill": {
          "duration": 0.226437,
          "end_time": "2021-07-06T09:25:49.396346",
          "exception": false,
          "start_time": "2021-07-06T09:25:49.169909",
          "status": "completed"
        },
        "tags": [],
        "colab": {
          "base_uri": "https://localhost:8080/",
          "height": 459
        },
        "id": "economic-calvin",
        "outputId": "84527702-a7de-4a01-ba93-c35055736864"
      },
      "source": [
        "plt.figure(figsize=(20,10))\n",
        "plt.title('Value count of gender')\n",
        "sns.countplot(data=df, x='Gender');"
      ],
      "id": "economic-calvin",
      "execution_count": 9,
      "outputs": [
        {
          "output_type": "display_data",
          "data": {
            "image/png": "[encoded data removed]",
            "text/plain": [
              "<Figure size 1440x720 with 1 Axes>"
            ]
          },
          "metadata": {
            "tags": [],
            "needs_background": "light"
          }
        }
      ]
    },
    {
      "cell_type": "code",
      "metadata": {
        "execution": {
          "iopub.execute_input": "2021-07-06T09:25:49.530144Z",
          "iopub.status.busy": "2021-07-06T09:25:49.528020Z",
          "iopub.status.idle": "2021-07-06T09:25:49.722939Z",
          "shell.execute_reply": "2021-07-06T09:25:49.722242Z",
          "shell.execute_reply.started": "2021-07-06T09:23:39.690841Z"
        },
        "papermill": {
          "duration": 0.276668,
          "end_time": "2021-07-06T09:25:49.723101",
          "exception": false,
          "start_time": "2021-07-06T09:25:49.446433",
          "status": "completed"
        },
        "tags": [],
        "colab": {
          "base_uri": "https://localhost:8080/",
          "height": 459
        },
        "id": "psychological-publication",
        "outputId": "4008e9ab-9959-4761-f89b-2ce3c8409601"
      },
      "source": [
        "plt.figure(figsize=(20,10))\n",
        "plt.title('Value count of gender who Purchase or not')\n",
        "sns.countplot(data=df, x='Gender', hue='Purchased');"
      ],
      "id": "psychological-publication",
      "execution_count": 10,
      "outputs": [
        {
          "output_type": "display_data",
          "data": {
            "image/png": "[encoded data removed]",
            "text/plain": [
              "<Figure size 1440x720 with 1 Axes>"
            ]
          },
          "metadata": {
            "tags": [],
            "needs_background": "light"
          }
        }
      ]
    },
    {
      "cell_type": "code",
      "metadata": {
        "execution": {
          "iopub.execute_input": "2021-07-06T09:25:49.888348Z",
          "iopub.status.busy": "2021-07-06T09:25:49.881530Z",
          "iopub.status.idle": "2021-07-06T09:25:50.099770Z",
          "shell.execute_reply": "2021-07-06T09:25:50.099191Z",
          "shell.execute_reply.started": "2021-07-06T09:23:39.879277Z"
        },
        "papermill": {
          "duration": 0.323886,
          "end_time": "2021-07-06T09:25:50.099939",
          "exception": false,
          "start_time": "2021-07-06T09:25:49.776053",
          "status": "completed"
        },
        "tags": [],
        "colab": {
          "base_uri": "https://localhost:8080/",
          "height": 462
        },
        "id": "green-buying",
        "outputId": "fd24505f-1efa-4b20-d10b-24d4ba227fb8"
      },
      "source": [
        "plt.figure(figsize=(20,10))\n",
        "plt.title('Histogram of age')\n",
        "sns.histplot(data=df, x='Age', bins=25, kde=True);"
      ],
      "id": "green-buying",
      "execution_count": 11,
      "outputs": [
        {
          "output_type": "display_data",
          "data": {
            "image/png": "[encoded data removed]",
            "text/plain": [
              "<Figure size 1440x720 with 1 Axes>"
            ]
          },
          "metadata": {
            "tags": [],
            "needs_background": "light"
          }
        }
      ]
    },
    {
      "cell_type": "code",
      "metadata": {
        "execution": {
          "iopub.execute_input": "2021-07-06T09:25:50.231424Z",
          "iopub.status.busy": "2021-07-06T09:25:50.222155Z",
          "iopub.status.idle": "2021-07-06T09:25:50.483773Z",
          "shell.execute_reply": "2021-07-06T09:25:50.483037Z",
          "shell.execute_reply.started": "2021-07-06T09:23:40.115011Z"
        },
        "papermill": {
          "duration": 0.33133,
          "end_time": "2021-07-06T09:25:50.483945",
          "exception": false,
          "start_time": "2021-07-06T09:25:50.152615",
          "status": "completed"
        },
        "tags": [],
        "colab": {
          "base_uri": "https://localhost:8080/",
          "height": 462
        },
        "id": "imposed-static",
        "outputId": "d1d976c9-4f6a-47e5-9b8e-5b77ee656027"
      },
      "source": [
        "plt.figure(figsize=(20,10))\n",
        "plt.title('Histogram of EstimatedSalary')\n",
        "sns.histplot(data=df, x='EstimatedSalary', bins=25, kde=True);"
      ],
      "id": "imposed-static",
      "execution_count": 12,
      "outputs": [
        {
          "output_type": "display_data",
          "data": {
            "image/png": "[encoded data removed]",
            "text/plain": [
              "<Figure size 1440x720 with 1 Axes>"
            ]
          },
          "metadata": {
            "tags": [],
            "needs_background": "light"
          }
        }
      ]
    },
    {
      "cell_type": "code",
      "metadata": {
        "execution": {
          "iopub.execute_input": "2021-07-06T09:25:50.625210Z",
          "iopub.status.busy": "2021-07-06T09:25:50.618165Z",
          "iopub.status.idle": "2021-07-06T09:25:51.664661Z",
          "shell.execute_reply": "2021-07-06T09:25:51.663908Z",
          "shell.execute_reply.started": "2021-07-06T09:23:40.549173Z"
        },
        "papermill": {
          "duration": 1.127811,
          "end_time": "2021-07-06T09:25:51.664823",
          "exception": false,
          "start_time": "2021-07-06T09:25:50.537012",
          "status": "completed"
        },
        "tags": [],
        "colab": {
          "base_uri": "https://localhost:8080/",
          "height": 453
        },
        "id": "short-spare",
        "outputId": "e67867f6-9ee1-4023-a578-533287ad6de5"
      },
      "source": [
        "plt.figure(figsize=(20,10))\n",
        "plt.title('Plot of Age vs EstimatedSalary')\n",
        "sns.boxplot(data=df, x='Age', y='EstimatedSalary');"
      ],
      "id": "short-spare",
      "execution_count": 13,
      "outputs": [
        {
          "output_type": "display_data",
          "data": {
            "image/png": "[encoded data removed]",
            "text/plain": [
              "<Figure size 1440x720 with 1 Axes>"
            ]
          },
          "metadata": {
            "tags": [],
            "needs_background": "light"
          }
        }
      ]
    },
    {
      "cell_type": "code",
      "metadata": {
        "execution": {
          "iopub.execute_input": "2021-07-06T09:25:51.972421Z",
          "iopub.status.busy": "2021-07-06T09:25:51.971620Z",
          "iopub.status.idle": "2021-07-06T09:25:52.264660Z",
          "shell.execute_reply": "2021-07-06T09:25:52.264064Z",
          "shell.execute_reply.started": "2021-07-06T09:23:41.548665Z"
        },
        "papermill": {
          "duration": 0.54343,
          "end_time": "2021-07-06T09:25:52.264835",
          "exception": false,
          "start_time": "2021-07-06T09:25:51.721405",
          "status": "completed"
        },
        "tags": [],
        "colab": {
          "base_uri": "https://localhost:8080/",
          "height": 453
        },
        "id": "charged-brazil",
        "outputId": "ee7e1ba1-d02d-45b8-9b66-279e37e2c907"
      },
      "source": [
        "plt.figure(figsize=(20,10))\n",
        "plt.title('Plot of Age vs Estimated Salary vs Purchased or not')\n",
        "sns.scatterplot(data=df, x='Age', y='EstimatedSalary', hue='Purchased', s=150, alpha=0.5);"
      ],
      "id": "charged-brazil",
      "execution_count": 14,
      "outputs": [
        {
          "output_type": "display_data",
          "data": {
            "image/png": "[encoded data removed]",
            "text/plain": [
              "<Figure size 1440x720 with 1 Axes>"
            ]
          },
          "metadata": {
            "tags": [],
            "needs_background": "light"
          }
        }
      ]
    },
    {
      "cell_type": "code",
      "metadata": {
        "execution": {
          "iopub.execute_input": "2021-07-06T09:25:52.425560Z",
          "iopub.status.busy": "2021-07-06T09:25:52.419023Z",
          "iopub.status.idle": "2021-07-06T09:25:52.831932Z",
          "shell.execute_reply": "2021-07-06T09:25:52.831343Z",
          "shell.execute_reply.started": "2021-07-06T09:23:41.837352Z"
        },
        "papermill": {
          "duration": 0.503744,
          "end_time": "2021-07-06T09:25:52.832100",
          "exception": false,
          "start_time": "2021-07-06T09:25:52.328356",
          "status": "completed"
        },
        "tags": [],
        "colab": {
          "base_uri": "https://localhost:8080/",
          "height": 925
        },
        "id": "comprehensive-stylus",
        "outputId": "15f73be5-a5bc-4d89-ad87-294ac24d96bb"
      },
      "source": [
        "plt.figure(figsize=(20,20))\n",
        "plt.title('Heatmap of Pearson corrlation')\n",
        "sns.heatmap(data=(pd.get_dummies(df)).corr(),annot=True);"
      ],
      "id": "comprehensive-stylus",
      "execution_count": 15,
      "outputs": [
        {
          "output_type": "display_data",
          "data": {
            "image/png": "[encoded data removed]",
            "text/plain": [
              "<Figure size 1440x1440 with 2 Axes>"
            ]
          },
          "metadata": {
            "tags": [],
            "needs_background": "light"
          }
        }
      ]
    },
    {
      "cell_type": "code",
      "metadata": {
        "execution": {
          "iopub.execute_input": "2021-07-06T09:25:52.984892Z",
          "iopub.status.busy": "2021-07-06T09:25:52.979251Z",
          "iopub.status.idle": "2021-07-06T09:25:53.390970Z",
          "shell.execute_reply": "2021-07-06T09:25:53.390401Z",
          "shell.execute_reply.started": "2021-07-06T09:23:42.252266Z"
        },
        "papermill": {
          "duration": 0.499527,
          "end_time": "2021-07-06T09:25:53.391130",
          "exception": false,
          "start_time": "2021-07-06T09:25:52.891603",
          "status": "completed"
        },
        "tags": [],
        "colab": {
          "base_uri": "https://localhost:8080/",
          "height": 925
        },
        "id": "honest-neighbor",
        "outputId": "8f44bb9a-6874-46ac-e4f6-b807afcff7d2"
      },
      "source": [
        "plt.figure(figsize=(20,20))\n",
        "plt.title('Heatmap of Spearman corrlation')\n",
        "sns.heatmap(data=(pd.get_dummies(df)).corr('spearman'),annot=True);"
      ],
      "id": "honest-neighbor",
      "execution_count": 16,
      "outputs": [
        {
          "output_type": "display_data",
          "data": {
            "image/png": "[encoded data removed]",
            "text/plain": [
              "<Figure size 1440x1440 with 2 Axes>"
            ]
          },
          "metadata": {
            "tags": [],
            "needs_background": "light"
          }
        }
      ]
    },
    {
      "cell_type": "markdown",
      "metadata": {
        "papermill": {
          "duration": 0.060755,
          "end_time": "2021-07-06T09:25:53.513964",
          "exception": false,
          "start_time": "2021-07-06T09:25:53.453209",
          "status": "completed"
        },
        "tags": [],
        "id": "alpine-franchise"
      },
      "source": [
        "# 5. Modelling"
      ],
      "id": "alpine-franchise"
    },
    {
      "cell_type": "code",
      "metadata": {
        "execution": {
          "iopub.execute_input": "2021-07-06T09:25:53.649763Z",
          "iopub.status.busy": "2021-07-06T09:25:53.648864Z",
          "iopub.status.idle": "2021-07-06T09:25:53.653141Z",
          "shell.execute_reply": "2021-07-06T09:25:53.652434Z",
          "shell.execute_reply.started": "2021-07-06T09:23:42.662697Z"
        },
        "papermill": {
          "duration": 0.077138,
          "end_time": "2021-07-06T09:25:53.653310",
          "exception": false,
          "start_time": "2021-07-06T09:25:53.576172",
          "status": "completed"
        },
        "tags": [],
        "id": "annual-hybrid"
      },
      "source": [
        "X = df.drop('Purchased', axis=1)\n",
        "X = pd.get_dummies(X, drop_first=True)\n",
        "y = df['Purchased']"
      ],
      "id": "annual-hybrid",
      "execution_count": 17,
      "outputs": []
    },
    {
      "cell_type": "code",
      "metadata": {
        "execution": {
          "iopub.execute_input": "2021-07-06T09:25:53.784187Z",
          "iopub.status.busy": "2021-07-06T09:25:53.783442Z",
          "iopub.status.idle": "2021-07-06T09:25:54.033991Z",
          "shell.execute_reply": "2021-07-06T09:25:54.033394Z",
          "shell.execute_reply.started": "2021-07-06T09:23:42.675754Z"
        },
        "papermill": {
          "duration": 0.319786,
          "end_time": "2021-07-06T09:25:54.034162",
          "exception": false,
          "start_time": "2021-07-06T09:25:53.714376",
          "status": "completed"
        },
        "tags": [],
        "id": "thermal-skiing"
      },
      "source": [
        "from sklearn.model_selection import train_test_split\n",
        "from sklearn.preprocessing import StandardScaler"
      ],
      "id": "thermal-skiing",
      "execution_count": 18,
      "outputs": []
    },
    {
      "cell_type": "code",
      "metadata": {
        "execution": {
          "iopub.execute_input": "2021-07-06T09:25:54.166428Z",
          "iopub.status.busy": "2021-07-06T09:25:54.165650Z",
          "iopub.status.idle": "2021-07-06T09:25:54.169721Z",
          "shell.execute_reply": "2021-07-06T09:25:54.169129Z",
          "shell.execute_reply.started": "2021-07-06T09:23:42.689875Z"
        },
        "papermill": {
          "duration": 0.073734,
          "end_time": "2021-07-06T09:25:54.169885",
          "exception": false,
          "start_time": "2021-07-06T09:25:54.096151",
          "status": "completed"
        },
        "tags": [],
        "id": "collaborative-nickname"
      },
      "source": [
        "X_train, X_test, y_train, y_test = train_test_split(X, y, test_size=0.3, random_state=42)"
      ],
      "id": "collaborative-nickname",
      "execution_count": 19,
      "outputs": []
    },
    {
      "cell_type": "code",
      "metadata": {
        "execution": {
          "iopub.execute_input": "2021-07-06T09:25:54.301248Z",
          "iopub.status.busy": "2021-07-06T09:25:54.300520Z",
          "iopub.status.idle": "2021-07-06T09:25:54.309600Z",
          "shell.execute_reply": "2021-07-06T09:25:54.308821Z",
          "shell.execute_reply.started": "2021-07-06T09:23:42.703824Z"
        },
        "papermill": {
          "duration": 0.077448,
          "end_time": "2021-07-06T09:25:54.309765",
          "exception": false,
          "start_time": "2021-07-06T09:25:54.232317",
          "status": "completed"
        },
        "tags": [],
        "id": "juvenile-poland"
      },
      "source": [
        "scaler = StandardScaler()\n",
        "X_train = scaler.fit_transform(X_train)\n",
        "X_test = scaler.transform(X_test)"
      ],
      "id": "juvenile-poland",
      "execution_count": 20,
      "outputs": []
    },
    {
      "cell_type": "markdown",
      "metadata": {
        "papermill": {
          "duration": 0.060371,
          "end_time": "2021-07-06T09:25:54.431881",
          "exception": false,
          "start_time": "2021-07-06T09:25:54.371510",
          "status": "completed"
        },
        "tags": [],
        "id": "interracial-independence"
      },
      "source": [
        "## Model Imports"
      ],
      "id": "interracial-independence"
    },
    {
      "cell_type": "code",
      "metadata": {
        "execution": {
          "iopub.execute_input": "2021-07-06T09:25:54.562298Z",
          "iopub.status.busy": "2021-07-06T09:25:54.561590Z",
          "iopub.status.idle": "2021-07-06T09:25:55.377621Z",
          "shell.execute_reply": "2021-07-06T09:25:55.376988Z",
          "shell.execute_reply.started": "2021-07-06T09:23:42.719869Z"
        },
        "papermill": {
          "duration": 0.882941,
          "end_time": "2021-07-06T09:25:55.377798",
          "exception": false,
          "start_time": "2021-07-06T09:25:54.494857",
          "status": "completed"
        },
        "tags": [],
        "id": "distributed-alcohol"
      },
      "source": [
        "from sklearn.linear_model import LogisticRegression\n",
        "from sklearn.neighbors import KNeighborsClassifier\n",
        "from sklearn.svm import SVC\n",
        "from sklearn.tree import DecisionTreeClassifier\n",
        "from sklearn.ensemble import RandomForestClassifier, AdaBoostClassifier, GradientBoostingClassifier\n",
        "from xgboost import XGBClassifier, XGBRFClassifier\n",
        "from lightgbm import LGBMClassifier"
      ],
      "id": "distributed-alcohol",
      "execution_count": 22,
      "outputs": []
    },
    {
      "cell_type": "markdown",
      "metadata": {
        "papermill": {
          "duration": 0.061798,
          "end_time": "2021-07-06T09:25:55.502406",
          "exception": false,
          "start_time": "2021-07-06T09:25:55.440608",
          "status": "completed"
        },
        "tags": [],
        "id": "comparative-organ"
      },
      "source": [
        "## Baseline Model Scores"
      ],
      "id": "comparative-organ"
    },
    {
      "cell_type": "code",
      "metadata": {
        "execution": {
          "iopub.execute_input": "2021-07-06T09:25:55.631252Z",
          "iopub.status.busy": "2021-07-06T09:25:55.630173Z",
          "iopub.status.idle": "2021-07-06T09:25:55.633713Z",
          "shell.execute_reply": "2021-07-06T09:25:55.633063Z",
          "shell.execute_reply.started": "2021-07-06T09:23:42.733027Z"
        },
        "papermill": {
          "duration": 0.069521,
          "end_time": "2021-07-06T09:25:55.633865",
          "exception": false,
          "start_time": "2021-07-06T09:25:55.564344",
          "status": "completed"
        },
        "tags": [],
        "id": "cooked-programming"
      },
      "source": [
        "from warnings import filterwarnings"
      ],
      "id": "cooked-programming",
      "execution_count": 23,
      "outputs": []
    },
    {
      "cell_type": "code",
      "metadata": {
        "execution": {
          "iopub.execute_input": "2021-07-06T09:25:55.764048Z",
          "iopub.status.busy": "2021-07-06T09:25:55.763235Z",
          "iopub.status.idle": "2021-07-06T09:25:55.766229Z",
          "shell.execute_reply": "2021-07-06T09:25:55.765706Z",
          "shell.execute_reply.started": "2021-07-06T09:23:42.745680Z"
        },
        "papermill": {
          "duration": 0.070798,
          "end_time": "2021-07-06T09:25:55.766387",
          "exception": false,
          "start_time": "2021-07-06T09:25:55.695589",
          "status": "completed"
        },
        "tags": [],
        "id": "romantic-basin"
      },
      "source": [
        "filterwarnings('ignore')"
      ],
      "id": "romantic-basin",
      "execution_count": 24,
      "outputs": []
    },
    {
      "cell_type": "code",
      "metadata": {
        "execution": {
          "iopub.execute_input": "2021-07-06T09:25:55.894453Z",
          "iopub.status.busy": "2021-07-06T09:25:55.893673Z",
          "iopub.status.idle": "2021-07-06T09:25:55.901669Z",
          "shell.execute_reply": "2021-07-06T09:25:55.901093Z",
          "shell.execute_reply.started": "2021-07-06T09:23:42.759314Z"
        },
        "papermill": {
          "duration": 0.072164,
          "end_time": "2021-07-06T09:25:55.901840",
          "exception": false,
          "start_time": "2021-07-06T09:25:55.829676",
          "status": "completed"
        },
        "tags": [],
        "id": "thermal-martin"
      },
      "source": [
        "def fit_and_score(models, X_train, X_test, y_train, y_test):\n",
        "    np.random.seed(42)\n",
        "    \n",
        "    model_scores = {}\n",
        "    \n",
        "    for name, model in models.items():\n",
        "        model.fit(X_train,y_train)\n",
        "        model_scores[name] = model.score(X_test,y_test)\n",
        "\n",
        "    model_scores = pd.DataFrame(model_scores, index=['Score']).transpose()\n",
        "    model_scores = model_scores.sort_values('Score')\n",
        "        \n",
        "    return model_scores"
      ],
      "id": "thermal-martin",
      "execution_count": 25,
      "outputs": []
    },
    {
      "cell_type": "code",
      "metadata": {
        "execution": {
          "iopub.execute_input": "2021-07-06T09:25:56.033357Z",
          "iopub.status.busy": "2021-07-06T09:25:56.032287Z",
          "iopub.status.idle": "2021-07-06T09:25:56.035726Z",
          "shell.execute_reply": "2021-07-06T09:25:56.035082Z",
          "shell.execute_reply.started": "2021-07-06T09:23:42.773344Z"
        },
        "papermill": {
          "duration": 0.071519,
          "end_time": "2021-07-06T09:25:56.035894",
          "exception": false,
          "start_time": "2021-07-06T09:25:55.964375",
          "status": "completed"
        },
        "tags": [],
        "id": "owned-vector"
      },
      "source": [
        "models = {'LogisticRegression': LogisticRegression(max_iter=10000),\n",
        "          'KNeighborsClassifier': KNeighborsClassifier(),\n",
        "          'SVC': SVC(),\n",
        "          'DecisionTreeClassifier': DecisionTreeClassifier(),\n",
        "          'RandomForestClassifier': RandomForestClassifier(),\n",
        "          'AdaBoostClassifier': AdaBoostClassifier(),\n",
        "          'GradientBoostingClassifier': GradientBoostingClassifier(),\n",
        "          'XGBClassifier': XGBClassifier(),\n",
        "          'XGBRFClassifier': XGBRFClassifier(),\n",
        "          'LGBMClassifier':LGBMClassifier()}"
      ],
      "id": "owned-vector",
      "execution_count": 26,
      "outputs": []
    },
    {
      "cell_type": "code",
      "metadata": {
        "execution": {
          "iopub.execute_input": "2021-07-06T09:25:56.169559Z",
          "iopub.status.busy": "2021-07-06T09:25:56.164168Z",
          "iopub.status.idle": "2021-07-06T09:25:56.738550Z",
          "shell.execute_reply": "2021-07-06T09:25:56.739346Z",
          "shell.execute_reply.started": "2021-07-06T09:23:42.787012Z"
        },
        "papermill": {
          "duration": 0.641605,
          "end_time": "2021-07-06T09:25:56.739594",
          "exception": false,
          "start_time": "2021-07-06T09:25:56.097989",
          "status": "completed"
        },
        "tags": [],
        "id": "polish-evening"
      },
      "source": [
        "baseline_model_scores = fit_and_score(models, X_train, X_test, y_train, y_test)"
      ],
      "id": "polish-evening",
      "execution_count": 27,
      "outputs": []
    },
    {
      "cell_type": "code",
      "metadata": {
        "execution": {
          "iopub.execute_input": "2021-07-06T09:25:56.887983Z",
          "iopub.status.busy": "2021-07-06T09:25:56.887132Z",
          "iopub.status.idle": "2021-07-06T09:25:56.895950Z",
          "shell.execute_reply": "2021-07-06T09:25:56.895389Z",
          "shell.execute_reply.started": "2021-07-06T09:23:43.327553Z"
        },
        "papermill": {
          "duration": 0.09171,
          "end_time": "2021-07-06T09:25:56.896111",
          "exception": false,
          "start_time": "2021-07-06T09:25:56.804401",
          "status": "completed"
        },
        "tags": [],
        "colab": {
          "base_uri": "https://localhost:8080/",
          "height": 363
        },
        "id": "improving-steel",
        "outputId": "ad11fdb0-f537-491a-e6b3-587f70176f03"
      },
      "source": [
        "baseline_model_scores"
      ],
      "id": "improving-steel",
      "execution_count": 28,
      "outputs": [
        {
          "output_type": "execute_result",
          "data": {
            "text/html": [
              "<div>\n",
              "<style scoped>\n",
              "    .dataframe tbody tr th:only-of-type {\n",
              "        vertical-align: middle;\n",
              "    }\n",
              "\n",
              "    .dataframe tbody tr th {\n",
              "        vertical-align: top;\n",
              "    }\n",
              "\n",
              "    .dataframe thead th {\n",
              "        text-align: right;\n",
              "    }\n",
              "</style>\n",
              "<table border=\"1\" class=\"dataframe\">\n",
              "  <thead>\n",
              "    <tr style=\"text-align: right;\">\n",
              "      <th></th>\n",
              "      <th>Score</th>\n",
              "    </tr>\n",
              "  </thead>\n",
              "  <tbody>\n",
              "    <tr>\n",
              "      <th>DecisionTreeClassifier</th>\n",
              "      <td>0.841667</td>\n",
              "    </tr>\n",
              "    <tr>\n",
              "      <th>LogisticRegression</th>\n",
              "      <td>0.858333</td>\n",
              "    </tr>\n",
              "    <tr>\n",
              "      <th>RandomForestClassifier</th>\n",
              "      <td>0.900000</td>\n",
              "    </tr>\n",
              "    <tr>\n",
              "      <th>AdaBoostClassifier</th>\n",
              "      <td>0.908333</td>\n",
              "    </tr>\n",
              "    <tr>\n",
              "      <th>LGBMClassifier</th>\n",
              "      <td>0.908333</td>\n",
              "    </tr>\n",
              "    <tr>\n",
              "      <th>KNeighborsClassifier</th>\n",
              "      <td>0.916667</td>\n",
              "    </tr>\n",
              "    <tr>\n",
              "      <th>GradientBoostingClassifier</th>\n",
              "      <td>0.916667</td>\n",
              "    </tr>\n",
              "    <tr>\n",
              "      <th>SVC</th>\n",
              "      <td>0.933333</td>\n",
              "    </tr>\n",
              "    <tr>\n",
              "      <th>XGBClassifier</th>\n",
              "      <td>0.933333</td>\n",
              "    </tr>\n",
              "    <tr>\n",
              "      <th>XGBRFClassifier</th>\n",
              "      <td>0.933333</td>\n",
              "    </tr>\n",
              "  </tbody>\n",
              "</table>\n",
              "</div>"
            ],
            "text/plain": [
              "                               Score\n",
              "DecisionTreeClassifier      0.841667\n",
              "LogisticRegression          0.858333\n",
              "RandomForestClassifier      0.900000\n",
              "AdaBoostClassifier          0.908333\n",
              "LGBMClassifier              0.908333\n",
              "KNeighborsClassifier        0.916667\n",
              "GradientBoostingClassifier  0.916667\n",
              "SVC                         0.933333\n",
              "XGBClassifier               0.933333\n",
              "XGBRFClassifier             0.933333"
            ]
          },
          "metadata": {
            "tags": []
          },
          "execution_count": 28
        }
      ]
    },
    {
      "cell_type": "code",
      "metadata": {
        "execution": {
          "iopub.execute_input": "2021-07-06T09:25:57.065600Z",
          "iopub.status.busy": "2021-07-06T09:25:57.061559Z",
          "iopub.status.idle": "2021-07-06T09:25:57.298226Z",
          "shell.execute_reply": "2021-07-06T09:25:57.297575Z",
          "shell.execute_reply.started": "2021-07-06T09:23:43.340057Z"
        },
        "papermill": {
          "duration": 0.337975,
          "end_time": "2021-07-06T09:25:57.298393",
          "exception": false,
          "start_time": "2021-07-06T09:25:56.960418",
          "status": "completed"
        },
        "tags": [],
        "colab": {
          "base_uri": "https://localhost:8080/",
          "height": 548
        },
        "id": "prospective-consequence",
        "outputId": "34b583e5-087d-4048-fb7e-a8ab3921991b"
      },
      "source": [
        "plt.figure(figsize=(20,10))\n",
        "sns.barplot(data=baseline_model_scores.sort_values('Score').T)\n",
        "plt.title('Baseline Model Precision Score')\n",
        "plt.xticks(rotation=90);"
      ],
      "id": "prospective-consequence",
      "execution_count": 29,
      "outputs": [
        {
          "output_type": "display_data",
          "data": {
            "image/png": "[encoded data removed]",
            "text/plain": [
              "<Figure size 1440x720 with 1 Axes>"
            ]
          },
          "metadata": {
            "tags": [],
            "needs_background": "light"
          }
        }
      ]
    },
    {
      "cell_type": "markdown",
      "metadata": {
        "papermill": {
          "duration": 0.063822,
          "end_time": "2021-07-06T09:25:57.427254",
          "exception": false,
          "start_time": "2021-07-06T09:25:57.363432",
          "status": "completed"
        },
        "tags": [],
        "id": "stuffed-voluntary"
      },
      "source": [
        "From the baseline modelling we can see that the top models are:\n",
        "1. SVC \t0.933333\n",
        "1. XGBRFClassifier \t0.933333\n",
        "\n",
        "we can try tuning the hyperparams to check if the model improves"
      ],
      "id": "stuffed-voluntary"
    },
    {
      "cell_type": "markdown",
      "metadata": {
        "papermill": {
          "duration": 0.063117,
          "end_time": "2021-07-06T09:25:57.555362",
          "exception": false,
          "start_time": "2021-07-06T09:25:57.492245",
          "status": "completed"
        },
        "tags": [],
        "id": "vertical-empty"
      },
      "source": [
        "## Random Search CV"
      ],
      "id": "vertical-empty"
    },
    {
      "cell_type": "markdown",
      "metadata": {
        "papermill": {
          "duration": 0.062693,
          "end_time": "2021-07-06T09:25:57.680966",
          "exception": false,
          "start_time": "2021-07-06T09:25:57.618273",
          "status": "completed"
        },
        "tags": [],
        "id": "reduced-layout"
      },
      "source": [
        "As the data is in-balance we will use the F1 scores for the scoring "
      ],
      "id": "reduced-layout"
    },
    {
      "cell_type": "code",
      "metadata": {
        "execution": {
          "iopub.execute_input": "2021-07-06T09:25:57.815517Z",
          "iopub.status.busy": "2021-07-06T09:25:57.814782Z",
          "iopub.status.idle": "2021-07-06T09:25:57.817704Z",
          "shell.execute_reply": "2021-07-06T09:25:57.818215Z",
          "shell.execute_reply.started": "2021-07-06T09:23:43.579032Z"
        },
        "papermill": {
          "duration": 0.073769,
          "end_time": "2021-07-06T09:25:57.818412",
          "exception": false,
          "start_time": "2021-07-06T09:25:57.744643",
          "status": "completed"
        },
        "tags": [],
        "id": "logical-playlist"
      },
      "source": [
        "from sklearn.model_selection import RandomizedSearchCV"
      ],
      "id": "logical-playlist",
      "execution_count": 30,
      "outputs": []
    },
    {
      "cell_type": "code",
      "metadata": {
        "execution": {
          "iopub.execute_input": "2021-07-06T09:25:57.950881Z",
          "iopub.status.busy": "2021-07-06T09:25:57.950157Z",
          "iopub.status.idle": "2021-07-06T09:25:57.957215Z",
          "shell.execute_reply": "2021-07-06T09:25:57.957824Z",
          "shell.execute_reply.started": "2021-07-06T09:23:43.585349Z"
        },
        "papermill": {
          "duration": 0.076309,
          "end_time": "2021-07-06T09:25:57.958044",
          "exception": false,
          "start_time": "2021-07-06T09:25:57.881735",
          "status": "completed"
        },
        "tags": [],
        "id": "controversial-picture"
      },
      "source": [
        "def randomsearch_cv_scores(models, params, X_train, X_test, y_train, y_test):\n",
        "    np.random.seed(42)\n",
        "    \n",
        "    model_rs_scores = {}\n",
        "    model_rs_best_param = {}\n",
        "    \n",
        "    for name, model in models.items():\n",
        "        rs_model = RandomizedSearchCV(model,\n",
        "                                     param_distributions=params[name],\n",
        "                                      scoring='f1',\n",
        "                                      cv=5,\n",
        "                                     n_iter=20,n_jobs=1,\n",
        "                                     verbose=0)        \n",
        "        rs_model.fit(X_train,y_train)\n",
        "        model_rs_scores[name] = rs_model.score(X_test,y_test)\n",
        "        model_rs_best_param[name] = rs_model.best_params_\n",
        "        \n",
        "    return model_rs_scores, model_rs_best_param"
      ],
      "id": "controversial-picture",
      "execution_count": 31,
      "outputs": []
    },
    {
      "cell_type": "code",
      "metadata": {
        "execution": {
          "iopub.execute_input": "2021-07-06T09:25:58.089721Z",
          "iopub.status.busy": "2021-07-06T09:25:58.088994Z",
          "iopub.status.idle": "2021-07-06T09:25:58.096629Z",
          "shell.execute_reply": "2021-07-06T09:25:58.097183Z",
          "shell.execute_reply.started": "2021-07-06T09:23:43.599426Z"
        },
        "papermill": {
          "duration": 0.075345,
          "end_time": "2021-07-06T09:25:58.097374",
          "exception": false,
          "start_time": "2021-07-06T09:25:58.022029",
          "status": "completed"
        },
        "tags": [],
        "id": "suited-covering"
      },
      "source": [
        "models = {'SVC': SVC(),\n",
        "         'XGBRFClassifier': XGBRFClassifier()}\n",
        "\n",
        "params = {'SVC':{'C' : np.linspace(0.1,0.9, 9),\n",
        "                'kernel':['linear', 'ploy', 'rbf', 'sigmoid'],\n",
        "                'gamma': np.linspace(0,1,11),\n",
        "                },\n",
        "          'XGBRFClassifier':{'n_estimators': [2,5,10,20,50,100,200],\n",
        "                             'learning_rate':np.linspace(0,1,11),\n",
        "                             'gamma': np.linspace(0,1,11)}\n",
        "         }"
      ],
      "id": "suited-covering",
      "execution_count": 32,
      "outputs": []
    },
    {
      "cell_type": "markdown",
      "metadata": {
        "papermill": {
          "duration": 0.063163,
          "end_time": "2021-07-06T09:25:58.224507",
          "exception": false,
          "start_time": "2021-07-06T09:25:58.161344",
          "status": "completed"
        },
        "tags": [],
        "id": "retained-librarian"
      },
      "source": [
        "### RS model 1"
      ],
      "id": "retained-librarian"
    },
    {
      "cell_type": "code",
      "metadata": {
        "execution": {
          "iopub.execute_input": "2021-07-06T09:25:58.381338Z",
          "iopub.status.busy": "2021-07-06T09:25:58.380566Z",
          "iopub.status.idle": "2021-07-06T09:26:02.959645Z",
          "shell.execute_reply": "2021-07-06T09:26:02.960963Z",
          "shell.execute_reply.started": "2021-07-06T09:23:43.614530Z"
        },
        "papermill": {
          "duration": 4.666225,
          "end_time": "2021-07-06T09:26:02.961213",
          "exception": false,
          "start_time": "2021-07-06T09:25:58.294988",
          "status": "completed"
        },
        "tags": [],
        "id": "separated-novelty"
      },
      "source": [
        "model_rs_scores_1, model_rs_best_param_1 = randomsearch_cv_scores(models, params, X_train, X_test, y_train, y_test)"
      ],
      "id": "separated-novelty",
      "execution_count": 33,
      "outputs": []
    },
    {
      "cell_type": "code",
      "metadata": {
        "execution": {
          "iopub.execute_input": "2021-07-06T09:26:03.114324Z",
          "iopub.status.busy": "2021-07-06T09:26:03.113006Z",
          "iopub.status.idle": "2021-07-06T09:26:03.116693Z",
          "shell.execute_reply": "2021-07-06T09:26:03.117205Z",
          "shell.execute_reply.started": "2021-07-06T09:23:47.705246Z"
        },
        "papermill": {
          "duration": 0.082985,
          "end_time": "2021-07-06T09:26:03.117401",
          "exception": false,
          "start_time": "2021-07-06T09:26:03.034416",
          "status": "completed"
        },
        "tags": [],
        "colab": {
          "base_uri": "https://localhost:8080/"
        },
        "id": "intelligent-founder",
        "outputId": "2885aebd-d430-4a9d-9b69-c84f16eade99"
      },
      "source": [
        "model_rs_scores_1"
      ],
      "id": "intelligent-founder",
      "execution_count": 34,
      "outputs": [
        {
          "output_type": "execute_result",
          "data": {
            "text/plain": [
              "{'SVC': 0.9166666666666666, 'XGBRFClassifier': 0.9183673469387754}"
            ]
          },
          "metadata": {
            "tags": []
          },
          "execution_count": 34
        }
      ]
    },
    {
      "cell_type": "code",
      "metadata": {
        "execution": {
          "iopub.execute_input": "2021-07-06T09:26:03.266152Z",
          "iopub.status.busy": "2021-07-06T09:26:03.265221Z",
          "iopub.status.idle": "2021-07-06T09:26:03.272027Z",
          "shell.execute_reply": "2021-07-06T09:26:03.271345Z",
          "shell.execute_reply.started": "2021-07-06T09:23:47.716312Z"
        },
        "papermill": {
          "duration": 0.083241,
          "end_time": "2021-07-06T09:26:03.272191",
          "exception": false,
          "start_time": "2021-07-06T09:26:03.188950",
          "status": "completed"
        },
        "tags": [],
        "colab": {
          "base_uri": "https://localhost:8080/"
        },
        "id": "actual-compensation",
        "outputId": "b58c91da-c384-48e6-cc90-c736c0065ade"
      },
      "source": [
        "model_rs_best_param_1"
      ],
      "id": "actual-compensation",
      "execution_count": 35,
      "outputs": [
        {
          "output_type": "execute_result",
          "data": {
            "text/plain": [
              "{'SVC': {'C': 0.6, 'gamma': 0.7000000000000001, 'kernel': 'rbf'},\n",
              " 'XGBRFClassifier': {'gamma': 0.30000000000000004,\n",
              "  'learning_rate': 0.1,\n",
              "  'n_estimators': 5}}"
            ]
          },
          "metadata": {
            "tags": []
          },
          "execution_count": 35
        }
      ]
    },
    {
      "cell_type": "markdown",
      "metadata": {
        "papermill": {
          "duration": 0.072858,
          "end_time": "2021-07-06T09:26:03.417510",
          "exception": false,
          "start_time": "2021-07-06T09:26:03.344652",
          "status": "completed"
        },
        "tags": [],
        "id": "refined-concrete"
      },
      "source": [
        "From the random search CV of 5, we found that the SVC model perfroms the best with a CV F1 mean score of 91.67%\n",
        "we will based the model evalution on the SVC."
      ],
      "id": "refined-concrete"
    },
    {
      "cell_type": "markdown",
      "metadata": {
        "papermill": {
          "duration": 0.071776,
          "end_time": "2021-07-06T09:26:03.559366",
          "exception": false,
          "start_time": "2021-07-06T09:26:03.487590",
          "status": "completed"
        },
        "tags": [],
        "id": "processed-hughes"
      },
      "source": [
        "# 6. Model Evalution"
      ],
      "id": "processed-hughes"
    },
    {
      "cell_type": "code",
      "metadata": {
        "execution": {
          "iopub.execute_input": "2021-07-06T09:26:03.709515Z",
          "iopub.status.busy": "2021-07-06T09:26:03.708776Z",
          "iopub.status.idle": "2021-07-06T09:26:03.713866Z",
          "shell.execute_reply": "2021-07-06T09:26:03.712828Z",
          "shell.execute_reply.started": "2021-07-06T09:23:47.731726Z"
        },
        "papermill": {
          "duration": 0.085125,
          "end_time": "2021-07-06T09:26:03.714148",
          "exception": false,
          "start_time": "2021-07-06T09:26:03.629023",
          "status": "completed"
        },
        "tags": [],
        "id": "widespread-hearts"
      },
      "source": [
        "from sklearn.metrics import classification_report, plot_confusion_matrix, plot_roc_curve\n",
        "from sklearn.model_selection import cross_val_score"
      ],
      "id": "widespread-hearts",
      "execution_count": 36,
      "outputs": []
    },
    {
      "cell_type": "code",
      "metadata": {
        "execution": {
          "iopub.execute_input": "2021-07-06T09:26:03.895941Z",
          "iopub.status.busy": "2021-07-06T09:26:03.894856Z",
          "iopub.status.idle": "2021-07-06T09:26:03.896865Z",
          "shell.execute_reply": "2021-07-06T09:26:03.897847Z",
          "shell.execute_reply.started": "2021-07-06T09:23:47.745571Z"
        },
        "papermill": {
          "duration": 0.08652,
          "end_time": "2021-07-06T09:26:03.898113",
          "exception": false,
          "start_time": "2021-07-06T09:26:03.811593",
          "status": "completed"
        },
        "tags": [],
        "id": "acoustic-protocol"
      },
      "source": [
        "model = SVC(kernel='rbf',\n",
        "            gamma=0.7,\n",
        "            C = 0.6)"
      ],
      "id": "acoustic-protocol",
      "execution_count": 37,
      "outputs": []
    },
    {
      "cell_type": "code",
      "metadata": {
        "execution": {
          "iopub.execute_input": "2021-07-06T09:26:04.071668Z",
          "iopub.status.busy": "2021-07-06T09:26:04.070729Z",
          "iopub.status.idle": "2021-07-06T09:26:04.080753Z",
          "shell.execute_reply": "2021-07-06T09:26:04.081396Z",
          "shell.execute_reply.started": "2021-07-06T09:23:47.759129Z"
        },
        "papermill": {
          "duration": 0.107173,
          "end_time": "2021-07-06T09:26:04.081620",
          "exception": false,
          "start_time": "2021-07-06T09:26:03.974447",
          "status": "completed"
        },
        "tags": [],
        "id": "considerable-ethernet"
      },
      "source": [
        "model.fit(X_train,y_train)\n",
        "y_preds = model.predict(X_test)"
      ],
      "id": "considerable-ethernet",
      "execution_count": 38,
      "outputs": []
    },
    {
      "cell_type": "markdown",
      "metadata": {
        "papermill": {
          "duration": 0.075554,
          "end_time": "2021-07-06T09:26:04.230863",
          "exception": false,
          "start_time": "2021-07-06T09:26:04.155309",
          "status": "completed"
        },
        "tags": [],
        "id": "following-newsletter"
      },
      "source": [
        "## Classification Report"
      ],
      "id": "following-newsletter"
    },
    {
      "cell_type": "code",
      "metadata": {
        "execution": {
          "iopub.execute_input": "2021-07-06T09:26:04.384616Z",
          "iopub.status.busy": "2021-07-06T09:26:04.383420Z",
          "iopub.status.idle": "2021-07-06T09:26:04.397134Z",
          "shell.execute_reply": "2021-07-06T09:26:04.397939Z",
          "shell.execute_reply.started": "2021-07-06T09:23:47.776673Z"
        },
        "papermill": {
          "duration": 0.091518,
          "end_time": "2021-07-06T09:26:04.398201",
          "exception": false,
          "start_time": "2021-07-06T09:26:04.306683",
          "status": "completed"
        },
        "tags": [],
        "colab": {
          "base_uri": "https://localhost:8080/"
        },
        "id": "agricultural-accident",
        "outputId": "cecb1fe5-ad29-4ea5-af4a-c2fb3afd2d19"
      },
      "source": [
        "print(classification_report(y_test,y_preds))"
      ],
      "id": "agricultural-accident",
      "execution_count": 39,
      "outputs": [
        {
          "output_type": "stream",
          "text": [
            "              precision    recall  f1-score   support\n",
            "\n",
            "           0       0.96      0.93      0.94        73\n",
            "           1       0.90      0.94      0.92        47\n",
            "\n",
            "    accuracy                           0.93       120\n",
            "   macro avg       0.93      0.93      0.93       120\n",
            "weighted avg       0.93      0.93      0.93       120\n",
            "\n"
          ],
          "name": "stdout"
        }
      ]
    },
    {
      "cell_type": "markdown",
      "metadata": {
        "papermill": {
          "duration": 0.074045,
          "end_time": "2021-07-06T09:26:04.548164",
          "exception": false,
          "start_time": "2021-07-06T09:26:04.474119",
          "status": "completed"
        },
        "tags": [],
        "id": "formed-evanescence"
      },
      "source": [
        "## Confustion Matrix"
      ],
      "id": "formed-evanescence"
    },
    {
      "cell_type": "code",
      "metadata": {
        "execution": {
          "iopub.execute_input": "2021-07-06T09:26:04.703280Z",
          "iopub.status.busy": "2021-07-06T09:26:04.702439Z",
          "iopub.status.idle": "2021-07-06T09:26:04.900674Z",
          "shell.execute_reply": "2021-07-06T09:26:04.901423Z",
          "shell.execute_reply.started": "2021-07-06T09:23:47.794343Z"
        },
        "papermill": {
          "duration": 0.280416,
          "end_time": "2021-07-06T09:26:04.901679",
          "exception": false,
          "start_time": "2021-07-06T09:26:04.621263",
          "status": "completed"
        },
        "tags": [],
        "colab": {
          "base_uri": "https://localhost:8080/",
          "height": 297
        },
        "id": "geological-updating",
        "outputId": "8b7af47e-29d2-48f9-e865-2c713e3ebba5"
      },
      "source": [
        "plot_confusion_matrix(model,X_test,y_test)"
      ],
      "id": "geological-updating",
      "execution_count": 40,
      "outputs": [
        {
          "output_type": "execute_result",
          "data": {
            "text/plain": [
              "<sklearn.metrics._plot.confusion_matrix.ConfusionMatrixDisplay at 0x7f6215f6c750>"
            ]
          },
          "metadata": {
            "tags": []
          },
          "execution_count": 40
        },
        {
          "output_type": "display_data",
          "data": {
            "image/png": "[encoded data removed]",
            "text/plain": [
              "<Figure size 432x288 with 2 Axes>"
            ]
          },
          "metadata": {
            "tags": [],
            "needs_background": "light"
          }
        }
      ]
    },
    {
      "cell_type": "markdown",
      "metadata": {
        "papermill": {
          "duration": 0.075826,
          "end_time": "2021-07-06T09:26:05.052937",
          "exception": false,
          "start_time": "2021-07-06T09:26:04.977111",
          "status": "completed"
        },
        "tags": [],
        "id": "lasting-turtle"
      },
      "source": [
        "## ROC Curve"
      ],
      "id": "lasting-turtle"
    },
    {
      "cell_type": "code",
      "metadata": {
        "execution": {
          "iopub.execute_input": "2021-07-06T09:26:05.216279Z",
          "iopub.status.busy": "2021-07-06T09:26:05.215505Z",
          "iopub.status.idle": "2021-07-06T09:26:05.548756Z",
          "shell.execute_reply": "2021-07-06T09:26:05.548104Z",
          "shell.execute_reply.started": "2021-07-06T09:23:47.969084Z"
        },
        "papermill": {
          "duration": 0.416076,
          "end_time": "2021-07-06T09:26:05.548963",
          "exception": false,
          "start_time": "2021-07-06T09:26:05.132887",
          "status": "completed"
        },
        "tags": [],
        "colab": {
          "base_uri": "https://localhost:8080/",
          "height": 297
        },
        "id": "smaller-driver",
        "outputId": "623d193b-c0b6-4586-a7d9-95fd7850e19e"
      },
      "source": [
        "plot_roc_curve(model,X_test,y_test)"
      ],
      "id": "smaller-driver",
      "execution_count": 41,
      "outputs": [
        {
          "output_type": "execute_result",
          "data": {
            "text/plain": [
              "<sklearn.metrics._plot.roc_curve.RocCurveDisplay at 0x7f6216051fd0>"
            ]
          },
          "metadata": {
            "tags": []
          },
          "execution_count": 41
        },
        {
          "output_type": "display_data",
          "data": {
            "image/png": "[encoded data removed]",
            "text/plain": [
              "<Figure size 432x288 with 1 Axes>"
            ]
          },
          "metadata": {
            "tags": [],
            "needs_background": "light"
          }
        }
      ]
    },
    {
      "cell_type": "markdown",
      "metadata": {
        "papermill": {
          "duration": 0.074537,
          "end_time": "2021-07-06T09:26:05.699176",
          "exception": false,
          "start_time": "2021-07-06T09:26:05.624639",
          "status": "completed"
        },
        "tags": [],
        "id": "absolute-advantage"
      },
      "source": [
        "## Evalution using cross-validation"
      ],
      "id": "absolute-advantage"
    },
    {
      "cell_type": "code",
      "metadata": {
        "execution": {
          "iopub.execute_input": "2021-07-06T09:26:05.862581Z",
          "iopub.status.busy": "2021-07-06T09:26:05.861761Z",
          "iopub.status.idle": "2021-07-06T09:26:05.866258Z",
          "shell.execute_reply": "2021-07-06T09:26:05.865527Z",
          "shell.execute_reply.started": "2021-07-06T09:23:48.129346Z"
        },
        "papermill": {
          "duration": 0.09081,
          "end_time": "2021-07-06T09:26:05.866418",
          "exception": false,
          "start_time": "2021-07-06T09:26:05.775608",
          "status": "completed"
        },
        "tags": [],
        "id": "changed-rugby"
      },
      "source": [
        "def get_cv_score(model, X, y, cv=5):\n",
        "    \n",
        "    \n",
        "    cv_accuracy = cross_val_score(model,X,y,cv=5,\n",
        "                         scoring='accuracy')\n",
        "    print(f'Cross Validaion accuracy Scores: {cv_accuracy}')\n",
        "    print(f'Cross Validation accuracy Mean Score: {cv_accuracy.mean()}')\n",
        "    \n",
        "    cv_precision = cross_val_score(model,X,y,cv=5,\n",
        "                         scoring='precision')\n",
        "    print(f'Cross Validaion precision Scores: {cv_precision}')\n",
        "    print(f'Cross Validation precision Mean Score: {cv_precision.mean()}')\n",
        "    \n",
        "    cv_recall = cross_val_score(model,X,y,cv=5,\n",
        "                         scoring='recall')\n",
        "    print(f'Cross Validaion recall Scores: {cv_recall}')\n",
        "    print(f'Cross Validation recall Mean Score: {cv_recall.mean()}')\n",
        "    \n",
        "    cv_f1 = cross_val_score(model,X,y,cv=5,\n",
        "                         scoring='f1')\n",
        "    print(f'Cross Validaion f1 Scores: {cv_f1}')\n",
        "    print(f'Cross Validation f1 Mean Score: {cv_f1.mean()}')   \n",
        "    \n",
        "    cv_merics = pd.DataFrame({'Accuracy': cv_accuracy.mean(),\n",
        "                         'Precision': cv_precision.mean(),\n",
        "                         'Recall': cv_recall.mean(),\n",
        "                         'f1': cv_recall.mean()},index=[0])\n",
        "    \n",
        "    return cv_merics"
      ],
      "id": "changed-rugby",
      "execution_count": 42,
      "outputs": []
    },
    {
      "cell_type": "code",
      "metadata": {
        "execution": {
          "iopub.execute_input": "2021-07-06T09:26:06.024231Z",
          "iopub.status.busy": "2021-07-06T09:26:06.023407Z",
          "iopub.status.idle": "2021-07-06T09:26:06.135603Z",
          "shell.execute_reply": "2021-07-06T09:26:06.136108Z",
          "shell.execute_reply.started": "2021-07-06T09:23:48.139389Z"
        },
        "papermill": {
          "duration": 0.196569,
          "end_time": "2021-07-06T09:26:06.136321",
          "exception": false,
          "start_time": "2021-07-06T09:26:05.939752",
          "status": "completed"
        },
        "tags": [],
        "colab": {
          "base_uri": "https://localhost:8080/"
        },
        "id": "complete-startup",
        "outputId": "d6de1adc-cef9-4831-dede-1a65c52c2857"
      },
      "source": [
        "cv_merics = get_cv_score(model, X_train, y_train, cv=5)"
      ],
      "id": "complete-startup",
      "execution_count": 43,
      "outputs": [
        {
          "output_type": "stream",
          "text": [
            "Cross Validaion accuracy Scores: [0.92857143 0.94642857 0.89285714 0.83928571 0.91071429]\n",
            "Cross Validation accuracy Mean Score: 0.9035714285714287\n",
            "Cross Validaion precision Scores: [0.85714286 0.94444444 0.84210526 0.70833333 0.85714286]\n",
            "Cross Validation precision Mean Score: 0.8418337510442774\n",
            "Cross Validaion recall Scores: [0.94736842 0.89473684 0.84210526 0.89473684 0.9       ]\n",
            "Cross Validation recall Mean Score: 0.8957894736842105\n",
            "Cross Validaion f1 Scores: [0.9        0.91891892 0.84210526 0.79069767 0.87804878]\n",
            "Cross Validation f1 Mean Score: 0.8659541273966447\n"
          ],
          "name": "stdout"
        }
      ]
    },
    {
      "cell_type": "code",
      "metadata": {
        "execution": {
          "iopub.execute_input": "2021-07-06T09:26:06.300085Z",
          "iopub.status.busy": "2021-07-06T09:26:06.298980Z",
          "iopub.status.idle": "2021-07-06T09:26:06.304103Z",
          "shell.execute_reply": "2021-07-06T09:26:06.303400Z",
          "shell.execute_reply.started": "2021-07-06T09:23:48.244124Z"
        },
        "papermill": {
          "duration": 0.092016,
          "end_time": "2021-07-06T09:26:06.304278",
          "exception": false,
          "start_time": "2021-07-06T09:26:06.212262",
          "status": "completed"
        },
        "tags": [],
        "colab": {
          "base_uri": "https://localhost:8080/",
          "height": 81
        },
        "id": "nervous-desert",
        "outputId": "2f17b0d4-e803-42e8-c388-a3b229e77137"
      },
      "source": [
        "cv_merics"
      ],
      "id": "nervous-desert",
      "execution_count": 44,
      "outputs": [
        {
          "output_type": "execute_result",
          "data": {
            "text/html": [
              "<div>\n",
              "<style scoped>\n",
              "    .dataframe tbody tr th:only-of-type {\n",
              "        vertical-align: middle;\n",
              "    }\n",
              "\n",
              "    .dataframe tbody tr th {\n",
              "        vertical-align: top;\n",
              "    }\n",
              "\n",
              "    .dataframe thead th {\n",
              "        text-align: right;\n",
              "    }\n",
              "</style>\n",
              "<table border=\"1\" class=\"dataframe\">\n",
              "  <thead>\n",
              "    <tr style=\"text-align: right;\">\n",
              "      <th></th>\n",
              "      <th>Accuracy</th>\n",
              "      <th>Precision</th>\n",
              "      <th>Recall</th>\n",
              "      <th>f1</th>\n",
              "    </tr>\n",
              "  </thead>\n",
              "  <tbody>\n",
              "    <tr>\n",
              "      <th>0</th>\n",
              "      <td>0.903571</td>\n",
              "      <td>0.841834</td>\n",
              "      <td>0.895789</td>\n",
              "      <td>0.895789</td>\n",
              "    </tr>\n",
              "  </tbody>\n",
              "</table>\n",
              "</div>"
            ],
            "text/plain": [
              "   Accuracy  Precision    Recall        f1\n",
              "0  0.903571   0.841834  0.895789  0.895789"
            ]
          },
          "metadata": {
            "tags": []
          },
          "execution_count": 44
        }
      ]
    },
    {
      "cell_type": "markdown",
      "metadata": {
        "papermill": {
          "duration": 0.076402,
          "end_time": "2021-07-06T09:26:06.458468",
          "exception": false,
          "start_time": "2021-07-06T09:26:06.382066",
          "status": "completed"
        },
        "tags": [],
        "id": "engaged-tactics"
      },
      "source": [
        "With the SVC model, we are able to get the following:\n",
        "\n",
        "    Accuracy \t0.903571 \n",
        "    Precision \t0.841834\n",
        "    Recall \t    0.895789\n",
        "    f1          0.895789\n",
        "\t \t \t"
      ],
      "id": "engaged-tactics"
    }
  ]
}